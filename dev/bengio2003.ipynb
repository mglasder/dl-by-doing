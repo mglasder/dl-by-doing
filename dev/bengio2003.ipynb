{
 "cells": [
  {
   "cell_type": "code",
   "execution_count": 1,
   "metadata": {
    "collapsed": true,
    "ExecuteTime": {
     "end_time": "2023-05-14T19:52:13.398696Z",
     "start_time": "2023-05-14T19:52:12.251296Z"
    }
   },
   "outputs": [
    {
     "name": "stdout",
     "output_type": "stream",
     "text": [
      "/Users/magnus/repos/dl-by-doing/dev\r\n"
     ]
    }
   ],
   "source": [
    "import numpy as np\n",
    "%load_ext autoreload\n",
    "import torch\n",
    "import torch.nn.functional as F\n",
    "import random\n",
    "import re\n",
    "!pwd"
   ]
  },
  {
   "cell_type": "code",
   "execution_count": 2,
   "outputs": [],
   "source": [
    "url = 'https://storage.googleapis.com/download.tensorflow.org/data/shakespeare.txt'\n",
    "# torch.hub.download_url_to_file(url, '../data/shakespeare.txt')"
   ],
   "metadata": {
    "collapsed": false,
    "ExecuteTime": {
     "end_time": "2023-05-14T19:52:14.028051Z",
     "start_time": "2023-05-14T19:52:14.023533Z"
    }
   }
  },
  {
   "cell_type": "code",
   "execution_count": 33,
   "outputs": [],
   "source": [
    "data = open('../data/shakespeare.txt', 'r').read().splitlines()"
   ],
   "metadata": {
    "collapsed": false,
    "ExecuteTime": {
     "end_time": "2023-05-14T19:56:01.801951Z",
     "start_time": "2023-05-14T19:56:01.793647Z"
    }
   }
  },
  {
   "cell_type": "code",
   "execution_count": 34,
   "outputs": [],
   "source": [
    "data = [d for d in data if d != '']\n",
    "# do not remove full stop\n",
    "data = [re.sub(r'[^a-zA-Z0-9 .]', '', d) for d in data]\n",
    "# data = [re.sub(r'[^a-zA-Z0-9 ]', '', d) for d in data]\n",
    "data = [d.split(' ') for d in data]\n",
    "# slit out \".\"\n",
    "data = [d for d in data if len(d) > 1]\n",
    "data = [item for sublist in data for item in sublist]\n",
    "# make \".\" its own word\n",
    "data = [d.split('.') for d in data]\n",
    "data = [item for sublist in data for item in sublist]\n",
    "# replace \"\" with \".\"\n",
    "data = [d if d != '' else '.' for d in data]\n",
    "# data = [item for sublist in data for item in sublist]\n",
    "data = [d.lower() for d in data]\n",
    "data = np.array(data)"
   ],
   "metadata": {
    "collapsed": false,
    "ExecuteTime": {
     "end_time": "2023-05-14T19:56:02.476496Z",
     "start_time": "2023-05-14T19:56:02.281599Z"
    }
   }
  },
  {
   "cell_type": "code",
   "execution_count": 35,
   "outputs": [],
   "source": [
    "data = data[:10_000]"
   ],
   "metadata": {
    "collapsed": false,
    "ExecuteTime": {
     "end_time": "2023-05-14T19:56:03.151881Z",
     "start_time": "2023-05-14T19:56:03.145989Z"
    }
   }
  },
  {
   "cell_type": "code",
   "execution_count": 36,
   "outputs": [],
   "source": [
    "# vocabulary V\n",
    "vocabulary = {}\n",
    "\n",
    "for w in data:\n",
    "    if w not in vocabulary:\n",
    "        vocabulary[w] = 1\n",
    "    else:\n",
    "        vocabulary[w] += 1"
   ],
   "metadata": {
    "collapsed": false,
    "ExecuteTime": {
     "end_time": "2023-05-14T19:56:03.490173Z",
     "start_time": "2023-05-14T19:56:03.484924Z"
    }
   }
  },
  {
   "cell_type": "code",
   "execution_count": 37,
   "outputs": [
    {
     "data": {
      "text/plain": "array(['first', 'citizen', 'before', 'we', 'proceed', 'any', 'further',\n       'hear', 'me', 'speak', '.', 'speak', 'speak', '.', 'first',\n       'citizen', 'you', 'are', 'all', 'resolved'], dtype='<U18')"
     },
     "execution_count": 37,
     "metadata": {},
     "output_type": "execute_result"
    }
   ],
   "source": [
    "data[:20]"
   ],
   "metadata": {
    "collapsed": false,
    "ExecuteTime": {
     "end_time": "2023-05-14T19:56:04.033919Z",
     "start_time": "2023-05-14T19:56:04.028758Z"
    }
   }
  },
  {
   "cell_type": "code",
   "execution_count": 38,
   "outputs": [
    {
     "data": {
      "text/plain": "2198"
     },
     "execution_count": 38,
     "metadata": {},
     "output_type": "execute_result"
    }
   ],
   "source": [
    "# |V|\n",
    "len(vocabulary)"
   ],
   "metadata": {
    "collapsed": false,
    "ExecuteTime": {
     "end_time": "2023-05-14T19:56:07.085168Z",
     "start_time": "2023-05-14T19:56:07.078404Z"
    }
   }
  },
  {
   "cell_type": "code",
   "execution_count": 39,
   "outputs": [],
   "source": [
    "wtoi = {w:i for (i,w) in enumerate((list(vocabulary.keys())))}"
   ],
   "metadata": {
    "collapsed": false,
    "ExecuteTime": {
     "end_time": "2023-05-14T19:56:07.568915Z",
     "start_time": "2023-05-14T19:56:07.564573Z"
    }
   }
  },
  {
   "cell_type": "code",
   "execution_count": 40,
   "outputs": [],
   "source": [
    "itow = {value:key for (key,value) in wtoi.items()}"
   ],
   "metadata": {
    "collapsed": false,
    "ExecuteTime": {
     "end_time": "2023-05-14T19:56:07.857475Z",
     "start_time": "2023-05-14T19:56:07.850533Z"
    }
   }
  },
  {
   "cell_type": "code",
   "execution_count": 41,
   "outputs": [
    {
     "data": {
      "text/plain": "10"
     },
     "execution_count": 41,
     "metadata": {},
     "output_type": "execute_result"
    }
   ],
   "source": [
    "wtoi[\".\"]"
   ],
   "metadata": {
    "collapsed": false,
    "ExecuteTime": {
     "end_time": "2023-05-14T19:56:08.260435Z",
     "start_time": "2023-05-14T19:56:08.254913Z"
    }
   }
  },
  {
   "cell_type": "code",
   "execution_count": 48,
   "outputs": [
    {
     "name": "stdout",
     "output_type": "stream",
     "text": [
      "torch.Size([8000, 4]) torch.Size([8000])\n",
      "torch.Size([1000, 4]) torch.Size([1000])\n",
      "torch.Size([1000, 4]) torch.Size([1000])\n"
     ]
    }
   ],
   "source": [
    "# build the dataset\n",
    "n = 5\n",
    "block_size = n - 1 # context length: how many characters do we take to predict the next one?\n",
    "\n",
    "def build_dataset(words):\n",
    "    X, Y = [], []\n",
    "    context = [0] * block_size\n",
    "    for w in words:\n",
    "        ix = wtoi[w]\n",
    "        X.append(context)\n",
    "        Y.append(ix)\n",
    "        context = context[1:] + [ix] # crop and append\n",
    "\n",
    "    X = torch.tensor(X)\n",
    "    Y = torch.tensor(Y)\n",
    "    print(X.shape, Y.shape)\n",
    "    return X[3:], Y[3:]\n",
    "\n",
    "random.seed(42)\n",
    "# random.shuffle(data)\n",
    "n1 = int(0.8*len(data))\n",
    "n2 = int(0.9*len(data))\n",
    "\n",
    "Xtr, Ytr = build_dataset(data[:n1])\n",
    "Xdev, Ydev = build_dataset(data[n1:n2])\n",
    "Xte, Yte = build_dataset(data[n2:])"
   ],
   "metadata": {
    "collapsed": false,
    "ExecuteTime": {
     "end_time": "2023-05-14T19:59:24.693914Z",
     "start_time": "2023-05-14T19:59:24.685302Z"
    }
   }
  },
  {
   "cell_type": "code",
   "execution_count": 49,
   "outputs": [
    {
     "name": "stdout",
     "output_type": "stream",
     "text": [
      "tensor([4, 5, 6, 7]) -> 8\n",
      "['proceed', 'any', 'further', 'hear'] -> me\n",
      "tensor([5, 6, 7, 8]) -> 9\n",
      "['any', 'further', 'hear', 'me'] -> speak\n",
      "tensor([6, 7, 8, 9]) -> 10\n",
      "['further', 'hear', 'me', 'speak'] -> .\n",
      "tensor([ 7,  8,  9, 10]) -> 9\n",
      "['hear', 'me', 'speak', '.'] -> speak\n",
      "tensor([ 8,  9, 10,  9]) -> 9\n",
      "['me', 'speak', '.', 'speak'] -> speak\n"
     ]
    }
   ],
   "source": [
    "for i in range(5, 10):\n",
    "    print(f\"{Xtr[i]} -> {Ytr[i]}\")\n",
    "    print(f\"{[itow[x.item()] for x in Xtr[i]]} -> {itow[Ytr[i].item()]}\")"
   ],
   "metadata": {
    "collapsed": false,
    "ExecuteTime": {
     "end_time": "2023-05-14T19:59:26.238927Z",
     "start_time": "2023-05-14T19:59:26.232634Z"
    }
   }
  },
  {
   "cell_type": "code",
   "execution_count": 50,
   "outputs": [
    {
     "name": "stdout",
     "output_type": "stream",
     "text": [
      "34.49618148803711\n",
      "28.148006439208984\n",
      "26.385412216186523\n",
      "22.354833602905273\n",
      "10.000210762023926\n",
      "8.00522232055664\n",
      "7.104043006896973\n",
      "6.340682029724121\n",
      "6.911227703094482\n",
      "6.829572677612305\n",
      "6.374275207519531\n",
      "6.566662788391113\n",
      "6.168091773986816\n",
      "6.226218223571777\n",
      "6.269761562347412\n",
      "6.253377437591553\n",
      "6.223917484283447\n",
      "6.80210018157959\n",
      "6.4302287101745605\n",
      "6.498167991638184\n"
     ]
    }
   ],
   "source": [
    "h = 100\n",
    "n = 5\n",
    "m = 30\n",
    "\n",
    "batch_size = 128\n",
    "\n",
    "g = torch.Generator().manual_seed(42)\n",
    "\n",
    "C = torch.randn((len(vocabulary), m), generator=g)\n",
    "H = torch.randn((h, (n-1) * m), generator=g) # (h, (n-1)*m)\n",
    "b = torch.randn((len(vocabulary), 1), generator=g) # (|V|, 1)\n",
    "U = torch.randn((len(vocabulary), h), generator=g) # (|V|, h)\n",
    "d = torch.randn((h, 1), generator=g)\n",
    "\n",
    "parameters = [C, H, U, b, d]\n",
    "\n",
    "for p in parameters:\n",
    "    p.requires_grad = True\n",
    "\n",
    "lri = []\n",
    "lossi = []\n",
    "stepi = []\n",
    "\n",
    "for i in range(20_000):\n",
    "    # minibatch construct\n",
    "    ix = torch.randint(0, Xtr.shape[0], (batch_size,)) # (32, ) <> (batch_size, )\n",
    "\n",
    "    # forward pass\n",
    "    emb = C[Xtr[ix]] # (32, 3, 5) <> (batch_size, (n-1), m)\n",
    "    x = emb.view((n-1)*m, -1) # (15, 32) <> ((n-1)*m, batch_size,)\n",
    "    h = torch.tanh(d + H @ x) # (200, 32) <> (h, batch_size)\n",
    "    logits = b + U @ h # (12823, 32) <> (|V|, batch_size)\n",
    "    loss = F.cross_entropy(logits.T, Ytr[ix]) # transpose so that in expected shape: logits: (batch_size, ...), target: (batch_size)\n",
    "    #print(loss.item())\n",
    "\n",
    "    # backward pass\n",
    "    for p in parameters:\n",
    "        p.grad = None\n",
    "    loss.backward()\n",
    "\n",
    "    # update\n",
    "    #lr = lrs[i]\n",
    "    lr = 0.1 if i < 10_000 else 0.01\n",
    "    for p in parameters:\n",
    "        p.data += -lr * p.grad\n",
    "\n",
    "    # track stats\n",
    "    #lri.append(lre[i])\n",
    "    stepi.append(i)\n",
    "    lossi.append(loss.log10().item())\n",
    "\n",
    "    if i % 1000 == 0:\n",
    "        print(loss.item())"
   ],
   "metadata": {
    "collapsed": false,
    "ExecuteTime": {
     "end_time": "2023-05-14T20:00:31.863068Z",
     "start_time": "2023-05-14T19:59:53.434448Z"
    }
   }
  },
  {
   "cell_type": "code",
   "execution_count": 51,
   "outputs": [
    {
     "data": {
      "text/plain": "[<matplotlib.lines.Line2D at 0x11d643670>]"
     },
     "execution_count": 51,
     "metadata": {},
     "output_type": "execute_result"
    },
    {
     "data": {
      "text/plain": "<Figure size 640x480 with 1 Axes>",
      "image/png": "[encoded data removed]"
     },
     "metadata": {},
     "output_type": "display_data"
    }
   ],
   "source": [
    "from matplotlib import pyplot as plt\n",
    "\n",
    "plt.plot(stepi, lossi)"
   ],
   "metadata": {
    "collapsed": false,
    "ExecuteTime": {
     "end_time": "2023-05-14T20:00:45.068367Z",
     "start_time": "2023-05-14T20:00:44.974028Z"
    }
   }
  },
  {
   "cell_type": "code",
   "execution_count": 52,
   "outputs": [
    {
     "name": "stdout",
     "output_type": "stream",
     "text": [
      "your be if best put first thee might nobility to how honours win general thought hospitable steed together that he we forth .\n",
      "hes he ere in lets your do it troth bands when aufidius men though find when advanced neer assist chance cominius aim deliberate horns lungs ever interior acclamations virtue dear countenance awe pack from to way hereafter .\n",
      "of poorest .\n",
      "eat attend neighbours grain told kings blood fortnight woman state petitiond found galen body city vows doubtless outweighs brow patrician malice defend princely eer o twill tauntingly limbs speakst about gone follow too war chain lift together antiates two if success oer lookd thightheres empiricutic willing may devour even laughd make find gods city has because was shouldst sent pays issued whereof wholesome rome bolder citizen believe in the good then beholding of you you that death one we .\n",
      "heaven my has power are my against whereof no this hector the goes second tis to all a ready town pray a of you dearth some .\n",
      "abhorring a when are have let an shall three piercing with of heard that ild of matter first thankful yes this small gnaw camp know gusts carry brain corioli gates tickled soundly gods five foild oerleap beholding honourable smiling confess root requital rare instruct rare vigilant rare wears suggest coal proceedings merry wednesday suggest offices seem gaze nature smallof sheepwill prized offices ten grieves humility kindle silk noise deep hie charitable members chiefest timed youth catos interims poor charitable instruction soundly swords officers through tremble pikes marketplace weary fabric undo lord insurrections dot confirmed rare aught seemd terror art home desires estate spur standst note character earthly doubtthat two mockers outdares theft multiplying murrain yonder within gird those clamour bid soul amazonian reverend ont worships hard find standst bedfellow goes children herdsmen mother along wellfound child truebred giber freedom disposition palate abhorrd enemy her doublets excellent lesser fatigate things doom faults morsel earned alack door sounds force thee testy subdues even commission theyll thus smallof impediment prithee interior devil jest confirmed field threw multiplying ladiesand curs whence desire promise bout magistrates sail together morsel deserving already proper smiling budger soft safe tot us cannot ourselves thus within chain both till garland died complainings chain subdues deedachieving spoons faith threw plebeians condemning wine trust dull pay contemning friends volsce live will are he cowards volsce madam the comes hot force won kindest acting officer blind embracements proved rotten resolved faith within budger proof members fame citizens particularise world view bows tutus speakst duties lance eat well already oaks here pay beat interior beseech discovery receive arguing me thus this see senate ill capitol citizens both fob concealment geese alls course ourselves hath fitly ridges kindest darken earthly bended worships named field be contemning patience is good which .\n",
      ".\n",
      "fair whom off see follow set soundly city sound wars fob ons achieved other was walls from till with i but he of thy hostages him quoth of advance appeard welcome or night being map horns either outweighs dislikes enterd people marketplace fear faults weal save flatterers parties beat ladiesand usury am bear third tale examine renowned cominius especially come coriolanus puts well win kindle peace thus welcome enormity the will your wear shall .\n",
      "my dangerous curse ont ready tired madam gost carelessness piercing price suggest instruction spit flung cried time donebefore aims arei another out painting hail hark rise filld daily reason enemys agents rare wall augurer malkin ladies lose patrician pikes show veild leanness stay worse resolved got lack lead hour nobly charms earnestness bristled pound return bended vigilant burning rare threshold appeard noise fire poor us both has see agents wine lives sin pins speakst deserving budger or which and you your ay the gainst ill the .\n",
      "repeal arm follows another jupiter gates nature hatred on accounted gods hark that express strange interior trumpets menenius valours success off bencher dearth husewife store worships compound battle mouths yield proved horsedrench says crutch though unto after his thy too love no exile believe reel ay pays agents entombed forced bleared malice caius selves vantage triumph pale ild wish stay hang friends proud then any appear me camp dear lie renowned arms rob act chiefest might venture wolf tinderlike true partly physician honourable lord revolt din venture big hire hunger spot coward common ancient parties youth gnaw thus revolt pitying fortune terror earthly which ever worth enemy condemning at cry write how nobly aufidius door wisdoms crammed unactive mutinous helps foild contagion coffind brief statutes senators leg fast plebeians hide twentyseven from shames passing curse brutus late broke incensed citizen renowned here pale wow vent three enemys smoking tremble sweet mouths wounds looked place planet action rascal patrician thither grown alone dearer smallof tremble forgot aim mind commission enough receive ladies come given lovelier fellow proverbs hour followers tonight meat shouldst deserve admire though greatness transported painting breathe powers straight or people stay fob rome deserves hope butcher woman either testy from trumpet counterpoised budger t two patricians child done deserving battles shields addition stone otherwise geese requested maliciously ear necks clambering mercy vulgar rejourn wow force mantled sir hearing trenches camp din malice base send consent unroofd since rejoice proper day commission entire brow fawning bout finger penelope basest might cannot swords covetous thou abhorrd rats when third youth honourable forced prevaild sure oaks flour fit garners utter west filea touch bows fabric burning rates acceptance wise never within chain ill aims clambering live .\n",
      "than a away .\n",
      "why the well behind whom safely pot rob asunder fit thine prove burning leadst knee ground doit statutes doubtless sighd staves took hour brings part fit dearth bring attend twill baes him an big fit of juno no be you then his o little the further volsce hath your speakst madam pluto where tiber marketplace yourself bleedst duties yes cloven thats even heaven maild receive taket am expedition ladyship conjectural dearer budge antiates lance impediment wise wondrous leaden quoth large offices whereby em here comfortable merit yes together wounds fidiused fix belonging junius acclamations crackd mingle proved leash talk disbenchd hour found aught curs sighd theft ear free enemys rash dignifies bended suffrage also ingrateful worthy see constant sounds world trusts shake digest march grant covetous cap retires quoth planted murrain call less obey tickled object south disdains named favours tells city truebred horsed whiles doubtthat din noble gird cobbled indeed antiates sounds browbound alias earthly doings yonder sing corioli vows rest up cat may report why spectacled commission who south did wall even think favours vaward flight dispositions war person tullus statutes aims ask person red wear tullus caught millsbring himself forth seek pleaders complexions nose patricians yourselves soft honourable our people bodily gods we against cannot a shall will the done his ill a too struck citizen my mile well of ransoming make heaven parties worth win himself seeing controversy incensed decrees tarquin carries dry works corioli hereafter and i have tis wrath do hearts which rather rise call hare rebellion chain censured keep others noon oerleap disadvantage cry says hair caught twentyseven deserving token when garners o bad to as our would the me heart me visit .\n",
      "say renowned time help applied stubble defend prattling kindest enterd pretty very tapers centuries lived curse service lord sweet poor trim baes confirmed mother mile sell youll find cushion vouchd rare lend pins manifests sword whole expedition joy inferior foremost lowest shapes gainst valours anhungry murrain hell mutiners brings forth belonging velutus equal lead because tullus youll days himself syllables spot worships wondrous help muck slave disdains pricking crept win ear manner free nicelygawded capacity dignifies four colic wednesday mouse offices vent soothing hectors welcomes weal course greatest stubble thither terror or shows capitol to did victory backs a mothers caius pale but marcius .\n",
      "patrician very and fawning buttock then know about gods one be with that it give yet in the his in it serpent you .\n",
      "see first mark beastly corioli harm perceives shows o excellent intend balms flesh live surfeit confess yes tullus natural vantage even ten hector less stored offices conjectural which this has more her wolf none corn home sign call fast embarquements methinks call honourable way officers enough beard sheepwill scratch charter air custom pity spur pins red smiling believe sign lay corn declines hatred gloves pinched shed grows fast richest myself promisebreaker even mile through quoth corioli leader conduct from works asunder throw pikes restrain rare speaks cicatrices him fair muniments frighted tongue rascal fancy like gave pretty forenoon whom corioli stamp below shoes accusers smotherd proved proceedings lend wiping upon patricians received thine fane juno husewife sights armies breath care proper issued purpose gates knee soothing devour brings gates parties purpose delivered then known hasty devour pleased journey twas gentle follows forced confine which throw distribution where face worships persuaded dismiss hangmen grave wanting weepst seest here venture converses deliver selves servant made wednesday mind possessed jupiter receive mine spire expedition surer seem bestow strange shut wash blows arms sit agents show vice gave vesture done cobbled nuptial possessed hear thine minute amongst herdsmen least pikes pleaders dissolved suckle news she aufidius about arm gainst another beneath human proved made husewife sweet devour trim wondrous live sounds least valour whence mars embarquements wast made town she cominius done party violent spoke capitol trust promisebreaker eyes to his home marcius hundred absence musty excellent vigilant bate twill tears show dearth perceive straight desires root sea pins spur allaying took character time battle exile chain belonging silk earthly little twas bath haver ons hour war baes enemy war pinnd be they ready fierce mine lookd together view envied corioli stain none gods second mine you than now have saw business a part o if our instruction devour the to my us us fell cared other percussion success beards trusts an vantage oaks been it sir general indeed menenius pikes censured conveying physician news debile cast incensed couldst timed patrician last above pack laughd grim blind within curbs fast resolved cranks soft arm buildings o night thanks grateful against fast they according wine think she wars malicious theres int rubbing aims select large silk contagion alone commission piercing rather attaind sleep ourselves nothing great man donebefore gone husband there cormorant stamp not they .\n",
      "in attends could you was of at lie us i marcius had discover lartius first i are thy if the now know i be heard as let beseech your the his little where done what increase years whats has merit proof twentyseven poor war veild penelope mummers dearer entreaties t hungry relish o another gods below bale budger usury wholesome done me when are be shall below affection link dare stoppd enemy war common beyond business tribunes camels gilt shamed spoke again deliverd service sweet citizens answerd pence shows cries wash impediment pikes cowards part disease driven doubtthat demerits parasites wow heard devour because worships retires wives embarquements used child beasts crept wanton venture statutes thousands means youll catos another bleedst charitable honourable town coriolanus o neither them hurts city noble away lack years confess one truly veild deliberate rise painting provand hector foe slaves forth inclined ons unroofd find staves tent admire poor from one indeed done loves service hector whos hitherward whiles tarquins retires proof doubly camels ay drums promise shames yarn yes estate see yourselves outdares requested dissentious likely sail morning bedward forehead others pocket dozen issue catos than pikes deliberate able deserving famously besides out laughd coffind encountering warmd burning crept calld common drink along foolhardiness sure giving tear pretty estimation ay its spoons centuries gain ere from stamp fear fight both before usury forenoon surplus heavens schoolmaster come aught company trivial saw millsbring baby already amongst require beat bound alone apply half priests commission mutiners that in it thee aufidius i profane anhungry these senator smart discretion of all wish find you first miles charter rest spend juno allaying endure calld planted corioli cannot health fortnight whiles perceives people revolt how peace thousand gaze cause success assist subtle utter spectacled slander showing tiber ones arms fob pleasure awe bear fossetseller controversy besides rob may other lions after become change end belonging stain field members from be it this this capitol gost silk enough voices crept throng balms course princely foolhardiness care bring chance needs revolt hide ushers notsdeath cat come nobles again controversy arguing truebred earthly offices singularity glad loved holloa entombed endure opinion yourself widens at feverous shut welcome renowned touching war enough left o veins aught juno garners agued run noise loved awhile seek statutes war following fie sound battle discovery slave safely stiff talk smiling vent child defend grafted fragments curbs farewell braggd fatigate mercy tells parties earthly enraged whiles statutes least fathers behind wednesday restrain mock worships seeing call crown for and tongue the first shall the a lack modest have good .\n",
      "away the then unreasonably ere your no field shall lartius another enough service being vented knows restrain who object apes weep fear muniments renowned works plucked wast smeard fetch pair very its cared believe hour mirth done cannot rates anhungry act sweet trusts galen feebling arguing hereafter it well were .\n",
      "great and go aid do caius tother rise spoons bring sir fliers hatred bath cloven survey died bate corioli shreds worth whither view bonneted root wherefore fire forth saw necks again walls glad pinched servant corioli draw conduct rome chin hope works brows statutes allaying like progeny painted two corioli excuse aught own abilities broke decrees weal support pricking feebly lives slip prisoner swords drums garners broke charitable daughter aufidius bedward dull things good pleasures me wife from donebefore city something thousands obeyd breaths retire valeria knee shoes rare loved flour quaked chin nothing hire being small here cheap citizen thine sick he for may aufidius of worse what encountering best usurers mine treaty awhile when attended devour tire wolf counsellor devotion ever requested play impediment when whither ons run angry power brow did bleedst thither believe the forehead o and thirst as with hark i of power you indeed what they not in .\n",
      "it a mothers my titus fight him in grave hence me if gods more spawn sword a that out not much from public some butterfly works enough find fought slip worships worth fought go less brow horsedrench farewell grim covetous hunger common born debile jupiter tutus good edge grieves well heavy crutch i a my am or sights mile oaken outdares nerves dissentious slip painting opinion after quarterd below lives hour indeed miss fronts twill aufidius is true any first at angry flesh then report virtue commanded dispositions bale go counsellor complain burning rare vigilant loving weary methinks saddle up folly mother fob garners achieved nobility shames cranks live storehouse curse seven speakst gates devotion sweartis therein root often wherefore pitying midst armies tent la face merit gods wounds gold common cobbled cobbled violent marketplace country tarquin words another wheel air saddle outdares whiles wondrous wood shepherd fliers ushers willing bedward falsefaced gates oaks confirmed blest gainst joves devil comfort inform taken surplus giving rare commoners wore south twill ransoming blind wagging painted monster unroofd youll audience from offence stamp poor quarterd grave tis heal benefit confirmed weep marketplace phoebus twas easy worthily friends wish alone parts a to ask did off he are first inferior tauntingly east thus spot fortune flung pertinent confine spend devour steel lungs clip large violent foild smeard maliciously weep bearing upont miles hath canon abhorrd ceremony corioli grafted absence according controversy repose general heart host about irons herdsmen willing shoulder feats peace violent cruel nature much force house enemies coriolanus requested advance tullus sons hector smotherd burning rare fled shames hes gulf dispositions world suggest stoppd awe door course mend come valours safely any belly run hie point wanton thats below yet nicelygawded strong curbs use veild got peace besides enemies soldier alone cease galen that he as all where rather youll rats war feed yourself country treasure marketplace spend goes public carelessness violent virtue sufferance answerd palate noise cry lean eat put done chain power do stand gods shields see gusts drums swear thus through ones ever issue afoot bended another lurchd earthly at aufidius to .\n",
      "censure it do told citizen those command millsbring ladyship sail warrant fast self grim doubtthat conspectuities roman foot convenient confess offend shortend kings giving acting statutes burning embracements gifts hare spend brow covetous complainings gifts brag battle pound common cominius hecuba scratch petitiond doings mow set pikes looks out fore way flatter established gusts long particularise midst amongst beasts ist heaven whole air belonging which hectors doors be t mile though the in grows if .\n"
     ]
    }
   ],
   "source": [
    "for _ in range(20):\n",
    "\n",
    "    out = []\n",
    "    context = [0] * block_size # initialize with all ...\n",
    "    while True:\n",
    "        emb = C[torch.tensor([context])] # (1,block_size,d)\n",
    "        x = emb.view((n-1)*m, -1) # (15, 32) <> ((n-1)*m, batch_size,)\n",
    "        h = torch.tanh(d + H @ x) # (200, 32) <> (h, batch_size)\n",
    "        logits = (b + U @ h).T\n",
    "        probs = F.softmax(logits, dim=1)\n",
    "        ix = torch.multinomial(probs, num_samples=1, generator=g).item()\n",
    "        context = context[1:] + [ix]\n",
    "        out.append(ix)\n",
    "        if ix == 10:\n",
    "            break\n",
    "\n",
    "    print(' '.join(itow[i] for i in out))"
   ],
   "metadata": {
    "collapsed": false,
    "ExecuteTime": {
     "end_time": "2023-05-14T20:00:49.598869Z",
     "start_time": "2023-05-14T20:00:49.285335Z"
    }
   }
  },
  {
   "cell_type": "code",
   "execution_count": 21,
   "outputs": [
    {
     "data": {
      "text/plain": "[0, 0, 0]"
     },
     "execution_count": 21,
     "metadata": {},
     "output_type": "execute_result"
    }
   ],
   "source": [
    "context = [0] * block_size\n",
    "context"
   ],
   "metadata": {
    "collapsed": false,
    "ExecuteTime": {
     "end_time": "2023-05-14T19:45:18.557924Z",
     "start_time": "2023-05-14T19:45:18.553696Z"
    }
   }
  },
  {
   "cell_type": "code",
   "execution_count": 25,
   "outputs": [],
   "source": [
    "emb = C[torch.tensor([context])]"
   ],
   "metadata": {
    "collapsed": false,
    "ExecuteTime": {
     "end_time": "2023-05-14T19:46:10.869304Z",
     "start_time": "2023-05-14T19:46:10.865658Z"
    }
   }
  },
  {
   "cell_type": "code",
   "execution_count": 26,
   "outputs": [],
   "source": [
    "x = emb.view((n-1)*m, -1) # (15, 32) <> ((n-1)*m, batch_size,)\n",
    "h = torch.tanh(d + H @ x) # (200, 32) <> (h, batch_size)\n",
    "logits = b + U @ h"
   ],
   "metadata": {
    "collapsed": false,
    "ExecuteTime": {
     "end_time": "2023-05-14T19:46:11.663600Z",
     "start_time": "2023-05-14T19:46:11.650743Z"
    }
   }
  },
  {
   "cell_type": "code",
   "execution_count": 27,
   "outputs": [
    {
     "data": {
      "text/plain": "torch.Size([2243, 1])"
     },
     "execution_count": 27,
     "metadata": {},
     "output_type": "execute_result"
    }
   ],
   "source": [
    "logits.shape"
   ],
   "metadata": {
    "collapsed": false,
    "ExecuteTime": {
     "end_time": "2023-05-14T19:46:17.281198Z",
     "start_time": "2023-05-14T19:46:17.267789Z"
    }
   }
  },
  {
   "cell_type": "code",
   "execution_count": 41,
   "outputs": [],
   "source": [
    "probs = F.softmax(logits.T, dim=1)"
   ],
   "metadata": {
    "collapsed": false,
    "ExecuteTime": {
     "end_time": "2023-05-14T19:48:12.680333Z",
     "start_time": "2023-05-14T19:48:12.676795Z"
    }
   }
  },
  {
   "cell_type": "code",
   "execution_count": 44,
   "outputs": [
    {
     "data": {
      "text/plain": "tensor([[0.0045, 0.0033, 0.0004,  ..., 0.0002, 0.0002, 0.0001]],\n       grad_fn=<SoftmaxBackward0>)"
     },
     "execution_count": 44,
     "metadata": {},
     "output_type": "execute_result"
    }
   ],
   "source": [
    "probs"
   ],
   "metadata": {
    "collapsed": false,
    "ExecuteTime": {
     "end_time": "2023-05-14T19:48:24.136501Z",
     "start_time": "2023-05-14T19:48:24.131877Z"
    }
   }
  },
  {
   "cell_type": "code",
   "execution_count": 46,
   "outputs": [],
   "source": [
    "ix = torch.multinomial(probs, num_samples=1, generator=g).item()"
   ],
   "metadata": {
    "collapsed": false,
    "ExecuteTime": {
     "end_time": "2023-05-14T19:48:30.783842Z",
     "start_time": "2023-05-14T19:48:30.779078Z"
    }
   }
  },
  {
   "cell_type": "code",
   "execution_count": 48,
   "outputs": [
    {
     "data": {
      "text/plain": "595"
     },
     "execution_count": 48,
     "metadata": {},
     "output_type": "execute_result"
    }
   ],
   "source": [
    "ix"
   ],
   "metadata": {
    "collapsed": false,
    "ExecuteTime": {
     "end_time": "2023-05-14T19:48:36.028166Z",
     "start_time": "2023-05-14T19:48:36.024321Z"
    }
   }
  },
  {
   "cell_type": "code",
   "execution_count": null,
   "outputs": [],
   "source": [],
   "metadata": {
    "collapsed": false
   }
  }
 ],
 "metadata": {
  "kernelspec": {
   "display_name": "Python 3",
   "language": "python",
   "name": "python3"
  },
  "language_info": {
   "codemirror_mode": {
    "name": "ipython",
    "version": 2
   },
   "file_extension": ".py",
   "mimetype": "text/x-python",
   "name": "python",
   "nbconvert_exporter": "python",
   "pygments_lexer": "ipython2",
   "version": "2.7.6"
  }
 },
 "nbformat": 4,
 "nbformat_minor": 0
}
