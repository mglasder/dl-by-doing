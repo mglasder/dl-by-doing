{
 "cells": [
  {
   "cell_type": "code",
   "execution_count": 2,
   "metadata": {
    "collapsed": true,
    "ExecuteTime": {
     "end_time": "2023-05-17T17:34:34.263908Z",
     "start_time": "2023-05-17T17:34:34.101661Z"
    }
   },
   "outputs": [
    {
     "name": "stdout",
     "output_type": "stream",
     "text": [
      "/Users/magnus/repos/dl-by-doing/dev\r\n"
     ]
    }
   ],
   "source": [
    "import torch\n",
    "%load_ext autoreload\n",
    "!pwd"
   ]
  },
  {
   "cell_type": "code",
   "execution_count": 83,
   "outputs": [
    {
     "data": {
      "text/plain": "torch.Size([4, 2, 3])"
     },
     "execution_count": 83,
     "metadata": {},
     "output_type": "execute_result"
    }
   ],
   "source": [
    "batch_size = 4\n",
    "dim = (2, 3)\n",
    "batch = torch.randn((batch_size, *dim)) * 2 + 1\n",
    "batch.shape"
   ],
   "metadata": {
    "collapsed": false,
    "ExecuteTime": {
     "end_time": "2023-05-17T17:58:16.793955Z",
     "start_time": "2023-05-17T17:58:16.791329Z"
    }
   }
  },
  {
   "cell_type": "code",
   "execution_count": 84,
   "outputs": [],
   "source": [
    "# x from paper -> batch\n",
    "# mu: per dimension mean\n",
    "mu = batch.mean(axis=0, keepdims=True)\n",
    "\n",
    "# var: per dimension variance\n",
    "var = batch.var(axis=0, keepdims=True)\n",
    "\n",
    "# x_hat: per dimension normalization, eps: for numerical stability\n",
    "eps = 1e-10\n",
    "x_hat = (batch - mu) / torch.sqrt(var + eps)\n",
    "\n",
    "# scale and shift output\n",
    "gamma = torch.randn(dim)\n",
    "beta = torch.randn(dim)\n",
    "y = gamma * x_hat + beta"
   ],
   "metadata": {
    "collapsed": false,
    "ExecuteTime": {
     "end_time": "2023-05-17T17:58:18.891209Z",
     "start_time": "2023-05-17T17:58:18.884511Z"
    }
   }
  },
  {
   "cell_type": "code",
   "execution_count": 86,
   "outputs": [
    {
     "data": {
      "text/plain": "tensor([[[-5.9605e-08,  1.4901e-08,  0.0000e+00],\n         [ 0.0000e+00, -1.8626e-08, -1.7881e-07]]])"
     },
     "execution_count": 86,
     "metadata": {},
     "output_type": "execute_result"
    }
   ],
   "source": [
    "x_hat.mean(axis=0, keepdims=True)"
   ],
   "metadata": {
    "collapsed": false,
    "ExecuteTime": {
     "end_time": "2023-05-17T17:58:32.389061Z",
     "start_time": "2023-05-17T17:58:32.385910Z"
    }
   }
  },
  {
   "cell_type": "code",
   "execution_count": 185,
   "outputs": [],
   "source": [
    "from torch import nn\n",
    "\n",
    "\n",
    "class BatchNorm(nn.Module):\n",
    "    def __init__(self, dim, eps=1e-05):\n",
    "        super().__init__()\n",
    "        self.eps = eps\n",
    "        self.gamma = nn.Parameter(torch.ones(dim))\n",
    "        self.beta = nn.Parameter(torch.zeros(dim))\n",
    "\n",
    "        self.cum_mu = 0\n",
    "        self.cum_var = 0\n",
    "        self.m = 0\n",
    "\n",
    "    def forward(self, x):\n",
    "        if self.train:\n",
    "            mu = x.mean(axis=0, keepdims=True)\n",
    "            var = x.var(axis=0, keepdims=True, unbiased=False)\n",
    "            x_hat = (x - mu) / torch.sqrt(var + eps)\n",
    "            y = self.gamma * x_hat + self.beta\n",
    "\n",
    "        else:\n",
    "            self._update_cum_mu(x)\n",
    "            self._update_cum_var(x)\n",
    "            self.m += 1\n",
    "            sigma = torch.sqrt(self.cum_var + self.eps)\n",
    "            y = self.gamma / sigma * x + (self.beta - self.gamma * self.cum_mu / sigma)\n",
    "\n",
    "        return y\n",
    "\n",
    "    def _update_cum_mu(self, x):\n",
    "        self.cum_mu = (x.mean(axis=0, keepdims=True) + self.m * self.cum_mu) / (self.m + 1)\n",
    "\n",
    "    def _update_cum_var(self, x):\n",
    "        self.cum_var = self.m / (self.m -1) * (x.var(axis=0, keepdims=True, unbiased=False) + self.m * self.cum_var) / (self.m + 1)\n",
    "\n",
    "\n"
   ],
   "metadata": {
    "collapsed": false,
    "ExecuteTime": {
     "end_time": "2023-05-17T19:58:49.507742Z",
     "start_time": "2023-05-17T19:58:49.498856Z"
    }
   }
  },
  {
   "cell_type": "code",
   "execution_count": 186,
   "outputs": [],
   "source": [
    "batch_size = 4\n",
    "dim = 100_000\n",
    "batch = torch.randn((batch_size, dim)) * 2 + 1\n",
    "\n",
    "bn = BatchNorm(dim=dim)"
   ],
   "metadata": {
    "collapsed": false,
    "ExecuteTime": {
     "end_time": "2023-05-17T19:58:49.850640Z",
     "start_time": "2023-05-17T19:58:49.833020Z"
    }
   }
  },
  {
   "cell_type": "code",
   "execution_count": 187,
   "outputs": [
    {
     "data": {
      "text/plain": "torch.Size([4, 100000])"
     },
     "execution_count": 187,
     "metadata": {},
     "output_type": "execute_result"
    }
   ],
   "source": [
    "y1 = bn(batch)\n",
    "y1.shape"
   ],
   "metadata": {
    "collapsed": false,
    "ExecuteTime": {
     "end_time": "2023-05-17T19:58:50.150312Z",
     "start_time": "2023-05-17T19:58:50.131102Z"
    }
   }
  },
  {
   "cell_type": "code",
   "execution_count": 188,
   "outputs": [
    {
     "data": {
      "text/plain": "torch.Size([4, 100000])"
     },
     "execution_count": 188,
     "metadata": {},
     "output_type": "execute_result"
    }
   ],
   "source": [
    "torch_bn = torch.nn.BatchNorm1d(num_features=dim, momentum=0, track_running_stats=True)\n",
    "y2 = torch_bn(batch)\n",
    "y2.shape"
   ],
   "metadata": {
    "collapsed": false,
    "ExecuteTime": {
     "end_time": "2023-05-17T19:58:50.648700Z",
     "start_time": "2023-05-17T19:58:50.644572Z"
    }
   }
  },
  {
   "cell_type": "code",
   "execution_count": 189,
   "outputs": [],
   "source": [
    "mu1 = y2.mean(dim=1, keepdims=True)"
   ],
   "metadata": {
    "collapsed": false,
    "ExecuteTime": {
     "end_time": "2023-05-17T19:58:51.018687Z",
     "start_time": "2023-05-17T19:58:51.013683Z"
    }
   }
  },
  {
   "cell_type": "code",
   "execution_count": 190,
   "outputs": [],
   "source": [
    "mu2 = y1.mean(dim=1, keepdims=True)"
   ],
   "metadata": {
    "collapsed": false,
    "ExecuteTime": {
     "end_time": "2023-05-17T19:58:51.403547Z",
     "start_time": "2023-05-17T19:58:51.400067Z"
    }
   }
  },
  {
   "cell_type": "code",
   "execution_count": 191,
   "outputs": [],
   "source": [
    "var2 = y2.var(dim=1, keepdims=True, unbiased=False)"
   ],
   "metadata": {
    "collapsed": false,
    "ExecuteTime": {
     "end_time": "2023-05-17T19:58:51.788058Z",
     "start_time": "2023-05-17T19:58:51.784908Z"
    }
   }
  },
  {
   "cell_type": "code",
   "execution_count": 192,
   "outputs": [],
   "source": [
    "var1 = y1.var(dim=1, keepdims=True, unbiased=False)"
   ],
   "metadata": {
    "collapsed": false,
    "ExecuteTime": {
     "end_time": "2023-05-17T19:58:52.396216Z",
     "start_time": "2023-05-17T19:58:52.390997Z"
    }
   }
  },
  {
   "cell_type": "code",
   "execution_count": 193,
   "outputs": [
    {
     "data": {
      "text/plain": "True"
     },
     "execution_count": 193,
     "metadata": {},
     "output_type": "execute_result"
    }
   ],
   "source": [
    "torch.allclose(var1, var2, rtol=1e-3)"
   ],
   "metadata": {
    "collapsed": false,
    "ExecuteTime": {
     "end_time": "2023-05-17T19:58:52.858507Z",
     "start_time": "2023-05-17T19:58:52.855062Z"
    }
   }
  },
  {
   "cell_type": "code",
   "execution_count": 194,
   "outputs": [
    {
     "data": {
      "text/plain": "True"
     },
     "execution_count": 194,
     "metadata": {},
     "output_type": "execute_result"
    }
   ],
   "source": [
    "torch.allclose(mu1, mu2, rtol=1e-3)"
   ],
   "metadata": {
    "collapsed": false,
    "ExecuteTime": {
     "end_time": "2023-05-17T19:58:54.517198Z",
     "start_time": "2023-05-17T19:58:54.513546Z"
    }
   }
  },
  {
   "cell_type": "code",
   "execution_count": null,
   "outputs": [],
   "source": [],
   "metadata": {
    "collapsed": false
   }
  }
 ],
 "metadata": {
  "kernelspec": {
   "display_name": "Python 3",
   "language": "python",
   "name": "python3"
  },
  "language_info": {
   "codemirror_mode": {
    "name": "ipython",
    "version": 2
   },
   "file_extension": ".py",
   "mimetype": "text/x-python",
   "name": "python",
   "nbconvert_exporter": "python",
   "pygments_lexer": "ipython2",
   "version": "2.7.6"
  }
 },
 "nbformat": 4,
 "nbformat_minor": 0
}
